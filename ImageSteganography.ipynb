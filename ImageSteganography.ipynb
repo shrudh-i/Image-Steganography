{
  "cells": [
    {
      "cell_type": "markdown",
      "metadata": {
        "colab_type": "text",
        "id": "Mk_DBkMc_Wi6"
      },
      "source": [
        "Image Steganography"
      ]
    },
    {
      "cell_type": "code",
      "execution_count": 8,
      "metadata": {
        "colab": {},
        "colab_type": "code",
        "id": "KOsGDJ4JQoTN"
      },
      "outputs": [],
      "source": [
        "#import all the required libraries\n",
        "\n",
        "import cv2\n",
        "import numpy as np\n",
        "import types\n",
        "#import cv2_imshow #Google colab crashes if you try to display \n",
        "#image using cv2.imshow() thus use this import"
      ]
    },
    {
      "cell_type": "code",
      "execution_count": 9,
      "metadata": {
        "colab": {},
        "colab_type": "code",
        "id": "5Ii0mWH7RCz9"
      },
      "outputs": [],
      "source": [
        "def messageToBinary(message):\n",
        "  if type(message) == str:\n",
        "    return ''.join([ format(ord(i), \"08b\") for i in message ])\n",
        "  elif type(message) == bytes or type(message) == np.ndarray:\n",
        "    return [ format(i, \"08b\") for i in message ]\n",
        "  elif type(message) == int or type(message) == np.uint8:\n",
        "    return format(message, \"08b\")\n",
        "  else:\n",
        "    raise TypeError(\"Input type not supported\")"
      ]
    },
    {
      "cell_type": "code",
      "execution_count": 10,
      "metadata": {
        "colab": {},
        "colab_type": "code",
        "id": "ERmEwD-CSMM_"
      },
      "outputs": [],
      "source": [
        "# Function to hide the secret message into the image\n",
        "\n",
        "def hideData(image, secret_message):\n",
        "\n",
        "  # calculate the maximum bytes to encode\n",
        "  n_bytes = image.shape[0] * image.shape[1] * 3 // 8\n",
        "  print(\"Maximum bytes to encode:\", n_bytes)\n",
        "\n",
        "  #Check if the number of bytes to encode is less than the maximum bytes in the image\n",
        "  if len(secret_message) > n_bytes:\n",
        "      raise ValueError(\"Error encountered insufficient bytes, need bigger image or less data !!\")\n",
        "  \n",
        "  secret_message += \"#####\" # you can use any string as the delimeter\n",
        "\n",
        "  data_index = 0\n",
        "  # convert input data to binary format using messageToBinary() fucntion\n",
        "  binary_secret_msg = messageToBinary(secret_message)\n",
        "\n",
        "  data_len = len(binary_secret_msg) #Find the length of data that needs to be hidden\n",
        "  for values in image:\n",
        "      for pixel in values:\n",
        "          # convert RGB values to binary format\n",
        "          r, g, b = messageToBinary(pixel)\n",
        "          # modify the least significant bit only if there is still data to store\n",
        "          if data_index < data_len:\n",
        "              # hide the data into least significant bit of red pixel\n",
        "              pixel[0] = int(r[:-1] + binary_secret_msg[data_index], 2)\n",
        "              data_index += 1\n",
        "          if data_index < data_len:\n",
        "              # hide the data into least significant bit of green pixel\n",
        "              pixel[1] = int(g[:-1] + binary_secret_msg[data_index], 2)\n",
        "              data_index += 1\n",
        "          if data_index < data_len:\n",
        "              # hide the data into least significant bit of  blue pixel\n",
        "              pixel[2] = int(b[:-1] + binary_secret_msg[data_index], 2)\n",
        "              data_index += 1\n",
        "          # if data is encoded, just break out of the loop\n",
        "          if data_index >= data_len:\n",
        "              break\n",
        "\n",
        "  return image"
      ]
    },
    {
      "cell_type": "code",
      "execution_count": 11,
      "metadata": {
        "colab": {},
        "colab_type": "code",
        "id": "n4xLTJtoVUt5"
      },
      "outputs": [],
      "source": [
        "def showData(image):\n",
        "\n",
        "  binary_data = \"\"\n",
        "  for values in image:\n",
        "      for pixel in values:\n",
        "          r, g, b = messageToBinary(pixel) #convert the red,green and blue values into binary format\n",
        "          binary_data += r[-1] #extracting data from the least significant bit of red pixel\n",
        "          binary_data += g[-1] #extracting data from the least significant bit of red pixel\n",
        "          binary_data += b[-1] #extracting data from the least significant bit of red pixel\n",
        "  # split by 8-bits\n",
        "  all_bytes = [ binary_data[i: i+8] for i in range(0, len(binary_data), 8) ]\n",
        "  # convert from bits to characters\n",
        "  decoded_data = \"\"\n",
        "  for byte in all_bytes:\n",
        "      decoded_data += chr(int(byte, 2))\n",
        "      if decoded_data[-5:] == \"#####\": #check if we have reached the delimeter which is \"#####\"\n",
        "          break\n",
        "  #print(decoded_data)\n",
        "  return decoded_data[:-5] #remove the delimeter to show the original hidden message"
      ]
    },
    {
      "cell_type": "code",
      "execution_count": 12,
      "metadata": {
        "colab": {},
        "colab_type": "code",
        "id": "QHJKCXwFz8fk"
      },
      "outputs": [],
      "source": [
        "# Encode data into image \n",
        "def encode_text(): \n",
        "  image_name = input(\"Enter image name(with extension): \") \n",
        "  image = cv2.imread(image_name) # Read the input image using OpenCV-Python.\n",
        "  #It is a library of Python bindings designed to solve computer vision problems. \n",
        "  \n",
        "  #details of the image\n",
        "  print(\"The shape of the image is: \",image.shape) #check the shape of image to calculate the number of bytes in it\n",
        "  print(\"The original image is as shown below: \")\n",
        "  resized_image = cv2.resize(image, (500, 500)) #resize the image as per your requirement\n",
        "  cv2.imshow('',resized_image) #display the image\n",
        "  \n",
        "      \n",
        "  data = input(\"Enter data to be encoded : \") \n",
        "  if (len(data) == 0): \n",
        "    raise ValueError('Data is empty')\n",
        "  \n",
        "  filename = input(\"Enter the name of new encoded image(with extension): \")\n",
        "  encoded_image = hideData(image, data) # call the hideData function to hide the secret message into the selected image\n",
        "  cv2.imwrite(filename, encoded_image)\n",
        "\n",
        " \n",
        "    "
      ]
    },
    {
      "cell_type": "code",
      "execution_count": 13,
      "metadata": {
        "colab": {},
        "colab_type": "code",
        "id": "SAokL_YC2JB8"
      },
      "outputs": [],
      "source": [
        "# Decode the data in the image \n",
        "def decode_text():\n",
        "  # read the image that contains the hidden image\n",
        "  image_name = input(\"Enter the name of the steganographed image that you want to decode (with extension) :\") \n",
        "  image = cv2.imread(image_name) #read the image using cv2.imread() \n",
        "\n",
        "  print(\"The Steganographed image is as shown below: \")\n",
        "  resized_image = cv2.resize(image, (500, 500))  #resize the original image as per your requirement\n",
        "  cv2.imshow('',resized_image) #display the Steganographed image\n",
        "    \n",
        "  text = showData(image)\n",
        "  return text"
      ]
    },
    {
      "cell_type": "code",
      "execution_count": 14,
      "metadata": {
        "colab": {
          "base_uri": "https://localhost:8080/",
          "height": 721
        },
        "colab_type": "code",
        "id": "CFpQomYuyHdT",
        "outputId": "5833cc7e-e839-4655-866d-3ad66a48161b"
      },
      "outputs": [
        {
          "name": "stdout",
          "output_type": "stream",
          "text": [
            "\n",
            "Encoding....\n",
            "The shape of the image is:  (500, 500, 3)\n",
            "The original image is as shown below: \n",
            "Maximum bytes to encode: 93750\n"
          ]
        }
      ],
      "source": [
        "# Image Steganography    \n",
        "def Steganography(): \n",
        "    a = input(\"Image Steganography \\n 1. Encode the data \\n 2. Decode the data \\n Your input is: \")\n",
        "    userinput = int(a)\n",
        "    if (userinput == 1):\n",
        "      print(\"\\nEncoding....\")\n",
        "      encode_text() \n",
        "          \n",
        "    elif (userinput == 2):\n",
        "      print(\"\\nDecoding....\") \n",
        "      print(\"Decoded message is \" + decode_text()) \n",
        "    else: \n",
        "        raise Exception(\"Enter correct input\") \n",
        "          \n",
        "Steganography() #encode image"
      ]
    },
    {
      "cell_type": "code",
      "execution_count": 15,
      "metadata": {
        "colab": {
          "base_uri": "https://localhost:8080/",
          "height": 670
        },
        "colab_type": "code",
        "id": "9QxqwwHccrzJ",
        "outputId": "b5408465-f657-4ddf-f2a9-34b5e7ed8c8e"
      },
      "outputs": [
        {
          "name": "stdout",
          "output_type": "stream",
          "text": [
            "\n",
            "Decoding....\n",
            "The Steganographed image is as shown below: \n",
            "Decoded message is informationsecurity\n"
          ]
        }
      ],
      "source": [
        "Steganography() #decode image"
      ]
    },
    {
      "cell_type": "code",
      "execution_count": null,
      "metadata": {
        "colab": {},
        "colab_type": "code",
        "id": "Kk0iVOah79Vr"
      },
      "outputs": [],
      "source": []
    }
  ],
  "metadata": {
    "colab": {
      "name": "ImageSteganography.ipynb",
      "provenance": []
    },
    "interpreter": {
      "hash": "f668ae9b7d296c7184327c4b7fdc9aabc1018c627ee5f2c47144c69dd2aa2faf"
    },
    "kernelspec": {
      "display_name": "Python 3.8.8 64-bit ('base': conda)",
      "name": "python3"
    },
    "language_info": {
      "codemirror_mode": {
        "name": "ipython",
        "version": 3
      },
      "file_extension": ".py",
      "mimetype": "text/x-python",
      "name": "python",
      "nbconvert_exporter": "python",
      "pygments_lexer": "ipython3",
      "version": "3.8.8"
    }
  },
  "nbformat": 4,
  "nbformat_minor": 0
}
